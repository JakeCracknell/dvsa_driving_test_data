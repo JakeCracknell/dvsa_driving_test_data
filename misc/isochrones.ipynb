{
 "cells": [
  {
   "cell_type": "code",
   "execution_count": 11,
   "metadata": {},
   "outputs": [],
   "source": [
    "import pyrosm\n",
    "import osmnx as ox\n",
    "import networkx as nx\n",
    "import geopandas as gpd\n",
    "import pandas as pd\n",
    "from shapely.geometry import Polygon\n"
   ]
  },
  {
   "cell_type": "code",
   "execution_count": 7,
   "metadata": {},
   "outputs": [],
   "source": [
    "# Load places data from CSV\n",
    "places_df = pd.read_csv('Annex A.csv')\n"
   ]
  },
  {
   "cell_type": "code",
   "execution_count": 8,
   "metadata": {},
   "outputs": [],
   "source": [
    "def load_osm_graph(pbf_file, mode='drive'):\n",
    "    # Initialize the reader for the .pbf file\n",
    "    osm = pyrosm.OSM(pbf_file)\n",
    "    \n",
    "    # Extract the network data (by default for 'driving')\n",
    "    if mode == 'drive':\n",
    "        network = osm.get_network(network_type='driving')\n",
    "    elif mode == 'walk':\n",
    "        network = osm.get_network(network_type='walking')\n",
    "    elif mode == 'bike':\n",
    "        network = osm.get_network(network_type='cycling')\n",
    "    else:\n",
    "        raise ValueError(f\"Mode '{mode}' is not supported. Use 'drive', 'walk', or 'bike'.\")\n",
    "    \n",
    "    # Convert the network to a NetworkX graph for routing\n",
    "    G = ox.graph_from_gdfs(network[['u', 'v', 'geometry']], edges=network)\n",
    "    \n",
    "    return G"
   ]
  },
  {
   "cell_type": "code",
   "execution_count": 9,
   "metadata": {},
   "outputs": [],
   "source": [
    "# Function to generate isochrone polygon for a given location\n",
    "def generate_isochrone(osm_graph, lat, lon, travel_time=15, mode='drive'):\n",
    "    # Get the nearest network node to the place\n",
    "    node = ox.distance.nearest_nodes(osm_graph, lon, lat)\n",
    "\n",
    "    # Generate an isochrone based on travel time (15 minutes as an example)\n",
    "    trip_time = travel_time * 60  # Convert minutes to seconds\n",
    "\n",
    "    # Get subgraph limited by travel time\n",
    "    subgraph = ox.utils_graph.truncate_graph_by_time(osm_graph, node, trip_time, weight='travel_time')\n",
    "    isochrone_polygon = ox.utils_graph.graph_to_gdfs(subgraph, nodes=False, edges=False)['geometry'].unary_union\n",
    "\n",
    "    return isochrone_polygon"
   ]
  },
  {
   "cell_type": "code",
   "execution_count": 12,
   "metadata": {},
   "outputs": [],
   "source": [
    "osm_pbf_file = 'C:/Users/jake/geocoding_data/britain-and-ireland-latest.osm.pbf'\n",
    "osm_graph = load_osm_graph(osm_pbf_file, mode='drive')"
   ]
  },
  {
   "cell_type": "code",
   "execution_count": null,
   "metadata": {},
   "outputs": [],
   "source": [
    "# List to store isochrones for each place\n",
    "isochrones = []\n",
    "\n",
    "# Iterate over each place and generate isochrone\n",
    "for index, row in places_df.iterrows():\n",
    "    name = row['Permanent']\n",
    "    lat = row['LATITUDE']\n",
    "    lon = row['LONGITUDE']\n",
    "    \n",
    "    # Generate isochrone for each place\n",
    "    polygon = generate_isochrone(osm_graph, lat, lon)\n",
    "    \n",
    "    # Store as a GeoDataFrame with associated name\n",
    "    isochrones.append(gpd.GeoDataFrame({'Name': [name], 'geometry': [polygon]}, crs=\"EPSG:4326\"))\n",
    "\n",
    "# Combine all isochrones into a single GeoDataFrame\n",
    "isochrones_gdf = gpd.GeoDataFrame(pd.concat(isochrones, ignore_index=True), crs=\"EPSG:4326\")\n",
    "\n",
    "# Export to GeoJSON\n",
    "isochrones_gdf.to_file('isochrones.geojson', driver='GeoJSON')\n",
    "\n",
    "print(\"Isochrones GeoJSON saved as 'isochrones.geojson'\")"
   ]
  }
 ],
 "metadata": {
  "kernelspec": {
   "display_name": "Python 3",
   "language": "python",
   "name": "python3"
  },
  "language_info": {
   "codemirror_mode": {
    "name": "ipython",
    "version": 3
   },
   "file_extension": ".py",
   "mimetype": "text/x-python",
   "name": "python",
   "nbconvert_exporter": "python",
   "pygments_lexer": "ipython3",
   "version": "3.9.12"
  }
 },
 "nbformat": 4,
 "nbformat_minor": 2
}
