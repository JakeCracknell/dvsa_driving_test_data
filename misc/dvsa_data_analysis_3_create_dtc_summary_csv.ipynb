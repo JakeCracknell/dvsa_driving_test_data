{
 "cells": [
  {
   "cell_type": "code",
   "execution_count": 1,
   "metadata": {},
   "outputs": [],
   "source": [
    "import pandas as pd"
   ]
  },
  {
   "cell_type": "code",
   "execution_count": null,
   "metadata": {},
   "outputs": [],
   "source": [
    "#ignore the first row. use second row as header\n",
    "df1 = pd.read_csv('Annex C.csv', skiprows=2)\n",
    "df2 = pd.read_csv('Annex B.csv', skiprows=2)\n",
    "#join on 'Test ID'\n",
    "df = pd.merge(df1, df2, on='Test ID')\n",
    "#print row lengths of each\n",
    "print(len(df1), len(df2), len(df))\n"
   ]
  },
  {
   "cell_type": "code",
   "execution_count": 48,
   "metadata": {},
   "outputs": [],
   "source": [
    "#print table of PERIOD_DATE and test count, sorted by PERIOD_DATE = 215 days\n",
    "date_counts = df['PERIOD_DATE'].value_counts()\n",
    "date_counts.index = pd.to_datetime(date_counts.index, format='%d/%m/%Y')\n",
    "time_span_days = date_counts.index.max() - date_counts.index.min()\n",
    "time_span_days = time_span_days.days"
   ]
  },
  {
   "cell_type": "code",
   "execution_count": 45,
   "metadata": {},
   "outputs": [],
   "source": [
    "df['SLOT_TIME'] = pd.to_datetime(df['SLOT_TIME'], format='%H:%M')\n",
    "df['TIME_BIN'] = df['SLOT_TIME'].dt.floor('60T')\n",
    "df['TIME_BIN_STR'] = df['TIME_BIN'].dt.strftime('%H:%M')\n",
    "df['PASS'] = df['Result'].apply(lambda x: 1 if x == 'Pass' else 0)\n",
    "df['ATTEMPTS_TRUNC'] = df['ATTEMPTS'].apply(lambda x: 4 if x > 4 else x)\n",
    "df['FIRST_ATTEMPT'] = df['ATTEMPTS'].apply(lambda x: 1 if x == 1 else 0)"
   ]
  },
  {
   "cell_type": "code",
   "execution_count": null,
   "metadata": {},
   "outputs": [],
   "source": [
    "df.head()"
   ]
  },
  {
   "cell_type": "code",
   "execution_count": 73,
   "metadata": {},
   "outputs": [],
   "source": [
    "#TC_ID, TestCount, Pass (percentage), AttemptNum, IsFirstAttempt, EmergencyStop, ReverseBayPark, ForwardBayPark, ParallelPark, ReverseRight\n",
    "df_grouped = df.groupby(['TC_ID_y']).agg({'TC_ID_y': 'count', 'PASS': 'mean', 'ATTEMPTS':'mean', 'FIRST_ATTEMPT': 'mean', 'CONTROL_STOP_COMPLETED': 'mean', 'REVERSE_PARK_CARPARK': 'mean', 'TAXI_MANOEUVRE_COMPLETED': 'mean', 'REVERSE_PARK_ROAD': 'mean', 'REV_RIGHT_TRAIL_COMPLETED': 'mean'})\n",
    "df_grouped.columns = ['totalTestCount', 'pass', 'attemptNum', 'isFirstAttempt', 'emergencyStop', 'reverseBayPark', 'forwardBayPark', 'parallelPark', 'reverseRight']\n",
    "df_grouped['dailyTestCount'] = df_grouped['totalTestCount'] / time_span_days\n",
    "df_grouped['anyManeuvre'] = df_grouped['reverseBayPark'] + df_grouped['forwardBayPark'] + df_grouped['parallelPark'] + df_grouped['reverseRight']\n",
    "\n",
    "#Change TC_ID_y to TC_ID and cast to int\n",
    "df_grouped.index.names = ['id']\n",
    "\n"
   ]
  },
  {
   "cell_type": "code",
   "execution_count": 75,
   "metadata": {},
   "outputs": [],
   "source": [
    "#get Name from Driving Test Centres.csv\n",
    "df_centres = pd.read_csv('Driving Test Centres.csv')\n",
    "df_grouped_out = df_grouped.reset_index()\n",
    "df_grouped_out = pd.merge(df_grouped_out, df_centres, on='id')\n",
    "df_grouped_out = df_grouped_out.set_index('id')\n",
    "df_grouped_out.head()\n",
    "\n",
    "#reorder columns + ,latitude,longitude,addrLine1,addrLine2,addrLine3,addrLine4,addrLine5,postcode\n",
    "df_grouped_out = df_grouped_out[['name', 'totalTestCount', 'dailyTestCount', 'pass', 'attemptNum', 'isFirstAttempt', 'emergencyStop', 'reverseBayPark', 'forwardBayPark', 'parallelPark', 'reverseRight', 'anyManeuvre', 'latitude', 'longitude', 'addrLine1', 'addrLine2', 'addrLine3', 'addrLine4', 'addrLine5', 'postcode']]\n",
    "\n",
    "#to csv\n",
    "df_grouped_out.to_csv('dtc_summary.csv', float_format='%.4f')"
   ]
  }
 ],
 "metadata": {
  "kernelspec": {
   "display_name": "Python 3",
   "language": "python",
   "name": "python3"
  },
  "language_info": {
   "codemirror_mode": {
    "name": "ipython",
    "version": 3
   },
   "file_extension": ".py",
   "mimetype": "text/x-python",
   "name": "python",
   "nbconvert_exporter": "python",
   "pygments_lexer": "ipython3",
   "version": "3.9.12"
  }
 },
 "nbformat": 4,
 "nbformat_minor": 2
}
