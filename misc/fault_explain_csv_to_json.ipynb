{
 "cells": [
  {
   "cell_type": "code",
   "execution_count": 20,
   "metadata": {},
   "outputs": [],
   "source": [
    "import pandas as pd\n",
    "import json"
   ]
  },
  {
   "cell_type": "code",
   "execution_count": 21,
   "metadata": {},
   "outputs": [],
   "source": [
    "#Edit Google Sheets document, not the fault_descriptions.json output\n",
    "\n",
    "#cols like\n",
    "#faultName\tscenario1\tscenario2\tscenario3\tscenario4\tscenario5\tscenario6\thighReason1\thighReason2\thighReason3\thighReason4\thighReason5\thighReason6\n",
    "\n",
    "#output as dict:\n",
    "#{fault: {scenarios: [scenario1, scenario2, ...], highReasons: [highReason1, highReason2, ...]}}"
   ]
  },
  {
   "cell_type": "code",
   "execution_count": 22,
   "metadata": {},
   "outputs": [],
   "source": [
    "url = \"https://docs.google.com/spreadsheets/d/e/2PACX-1vS-gD_SHkvOE2wRHBPSNwXZzavIssvA8Bv2qxcJzEb01OtmYS4RsfMclbuAuOtiKGmfMNwhpufkYdI9/pub?gid=0&single=true&output=csv\"\n",
    "df = pd.read_csv(url)"
   ]
  },
  {
   "cell_type": "code",
   "execution_count": 29,
   "metadata": {},
   "outputs": [],
   "source": [
    "def clean(strings):\n",
    "    strings = [s for s in strings if not pd.isnull(s)]\n",
    "    #add period to end of string if it doesn't have one\n",
    "    strings = [s + '.' if s[-1] != '.' else s for s in strings]\n",
    "    return strings"
   ]
  },
  {
   "cell_type": "code",
   "execution_count": 30,
   "metadata": {},
   "outputs": [],
   "source": [
    "faults = {}\n",
    "for i, row in df.iterrows():\n",
    "    fault = row[\"faultName\"]\n",
    "    scenarios = clean([row[f\"scenario{i}\"] for i in range(1, 7)])\n",
    "    highReasons = clean([row[f\"highReason{i}\"] for i in range(1, 7)])\n",
    "    faults[fault] = {\"scenarios\": scenarios, \"highReasons\": highReasons}"
   ]
  },
  {
   "cell_type": "code",
   "execution_count": 32,
   "metadata": {},
   "outputs": [],
   "source": [
    "json.dump(faults, open(\"fault_descriptions.json\", \"w\"), indent=4)"
   ]
  }
 ],
 "metadata": {
  "kernelspec": {
   "display_name": "tf",
   "language": "python",
   "name": "python3"
  },
  "language_info": {
   "codemirror_mode": {
    "name": "ipython",
    "version": 3
   },
   "file_extension": ".py",
   "mimetype": "text/x-python",
   "name": "python",
   "nbconvert_exporter": "python",
   "pygments_lexer": "ipython3",
   "version": "3.9.12"
  }
 },
 "nbformat": 4,
 "nbformat_minor": 2
}
