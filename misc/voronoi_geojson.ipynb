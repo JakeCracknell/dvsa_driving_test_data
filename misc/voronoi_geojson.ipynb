{
 "cells": [
  {
   "cell_type": "code",
   "execution_count": 23,
   "metadata": {},
   "outputs": [],
   "source": [
    "import pandas as pd\n",
    "import geopandas as gpd\n",
    "from shapely.geometry import Point, Polygon\n",
    "from shapely.ops import voronoi_diagram\n",
    "from shapely.affinity import scale\n",
    "import json\n",
    "from shapely.geometry import MultiPoint\n",
    "import colorsys"
   ]
  },
  {
   "cell_type": "code",
   "execution_count": 24,
   "metadata": {},
   "outputs": [],
   "source": [
    "file_path = 'dtc_summary.csv'\n",
    "\n",
    "# Load CSV and prepare GeoDataFrame\n",
    "df = pd.read_csv(file_path)\n",
    "df['addrLine1'] = df['addrLine1'].fillna('')\n",
    "df['addrLine2'] = df['addrLine2'].fillna('')\n",
    "df['addrLine3'] = df['addrLine3'].fillna('')\n",
    "df['addrLine4'] = df['addrLine4'].fillna('')\n",
    "df['addrLine5'] = df['addrLine5'].fillna('')\n",
    "\n",
    "#get pass rate percentiles 10% and 90%\n",
    "low_pass_rate = df['pass'].quantile(0.05)\n",
    "high_pass_rate = df['pass'].quantile(0.9)"
   ]
  },
  {
   "cell_type": "code",
   "execution_count": 25,
   "metadata": {},
   "outputs": [
    {
     "name": "stdout",
     "output_type": "stream",
     "text": [
      "0.1     0.59213\n",
      "0.2     2.85298\n",
      "0.3     7.59810\n",
      "0.4    11.23258\n",
      "0.5    14.29535\n",
      "0.6    16.60838\n",
      "0.7    20.66933\n",
      "0.8    24.40840\n",
      "0.9    29.19256\n",
      "Name: dailyTestCount, dtype: float64\n"
     ]
    }
   ],
   "source": [
    "#print all percentiles of dailyTestCount\n",
    "print(df['dailyTestCount'].quantile([0.1, 0.2, 0.3, 0.4, 0.5, 0.6, 0.7, 0.8, 0.9]))"
   ]
  },
  {
   "cell_type": "code",
   "execution_count": 26,
   "metadata": {},
   "outputs": [],
   "source": [
    "\n",
    "def pass_rate_to_color(pass_rate):\n",
    "    pass_rate = max(low_pass_rate, min(high_pass_rate, pass_rate))    \n",
    "    perc_inside = (pass_rate - low_pass_rate) / (high_pass_rate - low_pass_rate)\n",
    "    hue = perc_inside * 0.67 #0 = red, 0.67 = blue\n",
    "    r, g, b = colorsys.hls_to_rgb(hue, 0.5, 1.0)\n",
    "    return f'#{int(r * 255):02x}{int(g * 255):02x}{int(b * 255):02x}'\n",
    "\n",
    "def daily_test_count_to_radius(daily_test_count):\n",
    "    # MIN(CEIL(2 + daily_test_count / 8), 10)\n",
    "    return min(2 + daily_test_count / 8, 10)\n",
    "\n",
    "def daily_test_count_to_size_string(daily_test_count):\n",
    "    if daily_test_count < 8:\n",
    "        return 'small'\n",
    "    elif daily_test_count < 16:\n",
    "        return 'medium'\n",
    "    else:\n",
    "        return 'large'"
   ]
  },
  {
   "cell_type": "code",
   "execution_count": 27,
   "metadata": {},
   "outputs": [],
   "source": [
    "geometry = [Point(xy) for xy in zip(df['longitude'], df['latitude'])]\n",
    "gdf = gpd.GeoDataFrame(df, geometry=geometry, crs=\"EPSG:4326\")\n",
    "gdf = gdf.to_crs(epsg=32630)  # Convert to metric CRS for Voronoi calculation\n",
    "points = MultiPoint(gdf.geometry.tolist())\n",
    "voronoi_cells = voronoi_diagram(points)\n",
    "features = []\n",
    "for i, cell in enumerate(voronoi_cells.geoms):\n",
    "    row = gdf[cell.contains(gdf.geometry)].iloc[0]\n",
    "    center_point = row.geometry\n",
    "    buffer_polygon = center_point.buffer(1609.34 * 5)  # miles to meters\n",
    "    clipped_polygon = cell.intersection(buffer_polygon)\n",
    "    properties = row.drop('geometry').to_dict()\n",
    "    properties['fill'] = pass_rate_to_color(properties['pass'])\n",
    "    properties['fill-opacity'] = 0.7\n",
    "    clipped_polygon = gpd.GeoSeries([clipped_polygon], crs=\"EPSG:32630\").to_crs(epsg=4326).iloc[0]\n",
    "    features.append({\n",
    "        \"type\": \"Feature\",\n",
    "        \"geometry\": json.loads(gpd.GeoSeries([clipped_polygon]).to_json())['features'][0]['geometry'],\n",
    "        \"properties\": properties\n",
    "    })\n",
    "\n",
    "# Construct GeoJSON output\n",
    "geojson_output = {\n",
    "    \"type\": \"FeatureCollection\",\n",
    "    \"features\": features\n",
    "}\n",
    "\n",
    "# Write GeoJSON to file\n",
    "with open(\"dtcs.geojson\", \"w\") as geojson_file:\n",
    "    json.dump(geojson_output, geojson_file)\n"
   ]
  },
  {
   "cell_type": "code",
   "execution_count": 28,
   "metadata": {},
   "outputs": [],
   "source": [
    "# dot = {\n",
    "#     \"type\": \"Feature\",\n",
    "#     \"geometry\": {\n",
    "#         \"type\": \"Point\",\n",
    "#         \"coordinates\": [row['longitude'], row['latitude']]\n",
    "#     },\n",
    "#     \"properties\": {\n",
    "#         \"marker-color\": pass_rate_to_color(properties['pass']),\n",
    "#         \"radius\": daily_test_count_to_radius(properties['dailyTestCount']),\n",
    "#         \"marker-size\": daily_test_count_to_size_string(properties['dailyTestCount']),\n",
    "#     }\n",
    "# }\n",
    "# features.append(dot)"
   ]
  }
 ],
 "metadata": {
  "kernelspec": {
   "display_name": "tf",
   "language": "python",
   "name": "python3"
  },
  "language_info": {
   "codemirror_mode": {
    "name": "ipython",
    "version": 3
   },
   "file_extension": ".py",
   "mimetype": "text/x-python",
   "name": "python",
   "nbconvert_exporter": "python",
   "pygments_lexer": "ipython3",
   "version": "3.9.12"
  }
 },
 "nbformat": 4,
 "nbformat_minor": 2
}
